{
 "cells": [
  {
   "cell_type": "markdown",
   "metadata": {},
   "source": [
    "## Project 1 : Analyzing Graduate School Admission Data\n",
    "### Who gets into graduate school?\n",
    "\n",
    "This project uses the [admissions.csv](https://github.com/alexperrier/gads/blob/master/project_01/admissions.csv) dataset to analyze the factors most predictive of graduate school admissions.\n",
    "\n",
    "### Organization\n",
    "1. Descriptive Statistics\n",
    "1. Logistic Regression\n",
    "1. Graphs"
   ]
  },
  {
   "cell_type": "markdown",
   "metadata": {},
   "source": [
    "#### 1. *Descriptive Statistics*"
   ]
  },
  {
   "cell_type": "code",
   "execution_count": 197,
   "metadata": {
    "collapsed": true
   },
   "outputs": [],
   "source": [
    "# Import Libraries\n",
    "import numpy as np\n",
    "import pandas as pd\n",
    "import matplotlib.pyplot as plt\n",
    "import statsmodels.api as sm\n",
    "%matplotlib inline"
   ]
  },
  {
   "cell_type": "code",
   "execution_count": 42,
   "metadata": {
    "collapsed": false
   },
   "outputs": [
    {
     "data": {
      "text/html": [
       "<div>\n",
       "<table border=\"1\" class=\"dataframe\">\n",
       "  <thead>\n",
       "    <tr style=\"text-align: right;\">\n",
       "      <th></th>\n",
       "      <th>admit</th>\n",
       "      <th>gre</th>\n",
       "      <th>gpa</th>\n",
       "      <th>prestige</th>\n",
       "    </tr>\n",
       "  </thead>\n",
       "  <tbody>\n",
       "    <tr>\n",
       "      <th>0</th>\n",
       "      <td>0</td>\n",
       "      <td>380.0</td>\n",
       "      <td>3.61</td>\n",
       "      <td>3.0</td>\n",
       "    </tr>\n",
       "    <tr>\n",
       "      <th>1</th>\n",
       "      <td>1</td>\n",
       "      <td>660.0</td>\n",
       "      <td>3.67</td>\n",
       "      <td>3.0</td>\n",
       "    </tr>\n",
       "    <tr>\n",
       "      <th>2</th>\n",
       "      <td>1</td>\n",
       "      <td>800.0</td>\n",
       "      <td>4.00</td>\n",
       "      <td>1.0</td>\n",
       "    </tr>\n",
       "    <tr>\n",
       "      <th>3</th>\n",
       "      <td>1</td>\n",
       "      <td>640.0</td>\n",
       "      <td>3.19</td>\n",
       "      <td>4.0</td>\n",
       "    </tr>\n",
       "    <tr>\n",
       "      <th>4</th>\n",
       "      <td>0</td>\n",
       "      <td>520.0</td>\n",
       "      <td>2.93</td>\n",
       "      <td>4.0</td>\n",
       "    </tr>\n",
       "  </tbody>\n",
       "</table>\n",
       "</div>"
      ],
      "text/plain": [
       "   admit    gre   gpa  prestige\n",
       "0      0  380.0  3.61       3.0\n",
       "1      1  660.0  3.67       3.0\n",
       "2      1  800.0  4.00       1.0\n",
       "3      1  640.0  3.19       4.0\n",
       "4      0  520.0  2.93       4.0"
      ]
     },
     "execution_count": 42,
     "metadata": {},
     "output_type": "execute_result"
    }
   ],
   "source": [
    "#Read in data\n",
    "df = pd.read_csv('admissions.csv')\n",
    "\n",
    "#Get a sense of what the data looks like\n",
    "df.shape\n",
    "df.columns\n",
    "df.head()\n"
   ]
  },
  {
   "cell_type": "code",
   "execution_count": 63,
   "metadata": {
    "collapsed": false
   },
   "outputs": [
    {
     "name": "stderr",
     "output_type": "stream",
     "text": [
      "C:\\Users\\Monica Farid\\Anaconda2\\envs\\gads2\\lib\\site-packages\\numpy\\lib\\function_base.py:3823: RuntimeWarning: Invalid value encountered in percentile\n",
      "  RuntimeWarning)\n"
     ]
    },
    {
     "data": {
      "text/html": [
       "<div>\n",
       "<table border=\"1\" class=\"dataframe\">\n",
       "  <thead>\n",
       "    <tr style=\"text-align: right;\">\n",
       "      <th></th>\n",
       "      <th>admit</th>\n",
       "      <th>gre</th>\n",
       "      <th>gpa</th>\n",
       "      <th>prestige</th>\n",
       "    </tr>\n",
       "  </thead>\n",
       "  <tbody>\n",
       "    <tr>\n",
       "      <th>count</th>\n",
       "      <td>400.000000</td>\n",
       "      <td>398.000000</td>\n",
       "      <td>398.00000</td>\n",
       "      <td>399.000000</td>\n",
       "    </tr>\n",
       "    <tr>\n",
       "      <th>mean</th>\n",
       "      <td>0.317500</td>\n",
       "      <td>588.040201</td>\n",
       "      <td>3.39093</td>\n",
       "      <td>2.486216</td>\n",
       "    </tr>\n",
       "    <tr>\n",
       "      <th>std</th>\n",
       "      <td>0.466087</td>\n",
       "      <td>115.628513</td>\n",
       "      <td>0.38063</td>\n",
       "      <td>0.945333</td>\n",
       "    </tr>\n",
       "    <tr>\n",
       "      <th>min</th>\n",
       "      <td>0.000000</td>\n",
       "      <td>220.000000</td>\n",
       "      <td>2.26000</td>\n",
       "      <td>1.000000</td>\n",
       "    </tr>\n",
       "    <tr>\n",
       "      <th>25%</th>\n",
       "      <td>0.000000</td>\n",
       "      <td>NaN</td>\n",
       "      <td>NaN</td>\n",
       "      <td>NaN</td>\n",
       "    </tr>\n",
       "    <tr>\n",
       "      <th>50%</th>\n",
       "      <td>0.000000</td>\n",
       "      <td>NaN</td>\n",
       "      <td>NaN</td>\n",
       "      <td>NaN</td>\n",
       "    </tr>\n",
       "    <tr>\n",
       "      <th>75%</th>\n",
       "      <td>1.000000</td>\n",
       "      <td>NaN</td>\n",
       "      <td>NaN</td>\n",
       "      <td>NaN</td>\n",
       "    </tr>\n",
       "    <tr>\n",
       "      <th>max</th>\n",
       "      <td>1.000000</td>\n",
       "      <td>800.000000</td>\n",
       "      <td>4.00000</td>\n",
       "      <td>4.000000</td>\n",
       "    </tr>\n",
       "  </tbody>\n",
       "</table>\n",
       "</div>"
      ],
      "text/plain": [
       "            admit         gre        gpa    prestige\n",
       "count  400.000000  398.000000  398.00000  399.000000\n",
       "mean     0.317500  588.040201    3.39093    2.486216\n",
       "std      0.466087  115.628513    0.38063    0.945333\n",
       "min      0.000000  220.000000    2.26000    1.000000\n",
       "25%      0.000000         NaN        NaN         NaN\n",
       "50%      0.000000         NaN        NaN         NaN\n",
       "75%      1.000000         NaN        NaN         NaN\n",
       "max      1.000000  800.000000    4.00000    4.000000"
      ]
     },
     "execution_count": 63,
     "metadata": {},
     "output_type": "execute_result"
    }
   ],
   "source": [
    "#Summary statistics\n",
    "df.describe()\n"
   ]
  },
  {
   "cell_type": "code",
   "execution_count": 91,
   "metadata": {
    "collapsed": false
   },
   "outputs": [
    {
     "name": "stdout",
     "output_type": "stream",
     "text": [
      "Value Counts Admit\n",
      "0    273\n",
      "1    127\n",
      "Name: admit, dtype: int64\n",
      "Value Counts Prestige\n",
      "2.0    150\n",
      "3.0    121\n",
      "4.0     67\n",
      "1.0     61\n",
      "Name: prestige, dtype: int64\n"
     ]
    },
    {
     "data": {
      "text/plain": [
       "array([[<matplotlib.axes._subplots.AxesSubplot object at 0x000001CD4FC4D0F0>,\n",
       "        <matplotlib.axes._subplots.AxesSubplot object at 0x000001CD4FD76710>],\n",
       "       [<matplotlib.axes._subplots.AxesSubplot object at 0x000001CD4FDBFA58>,\n",
       "        <matplotlib.axes._subplots.AxesSubplot object at 0x000001CD4FDF96D8>]], dtype=object)"
      ]
     },
     "execution_count": 91,
     "metadata": {},
     "output_type": "execute_result"
    },
    {
     "data": {
      "image/png": "[encoded data removed]",
      "text/plain": [
       "<matplotlib.figure.Figure at 0x1cd4fd25e48>"
      ]
     },
     "metadata": {},
     "output_type": "display_data"
    }
   ],
   "source": [
    "#Value counts for discrete variables\n",
    "print('Value Counts Admit')\n",
    "print(df.admit.value_counts())\n",
    "\n",
    "print('Value Counts Prestige')\n",
    "print(df.prestige.value_counts())\n",
    "\n",
    "#Plot histogram of all variables\n",
    "df.hist()"
   ]
  },
  {
   "cell_type": "code",
   "execution_count": 220,
   "metadata": {
    "collapsed": false
   },
   "outputs": [
    {
     "name": "stdout",
     "output_type": "stream",
     "text": [
      "Num Missing admit\n",
      "(0, 5)\n",
      "Num Missing gre\n",
      "(0, 5)\n",
      "Num Missing gpa\n",
      "(0, 5)\n",
      "Num Missing prestige\n",
      "(0, 5)\n"
     ]
    }
   ],
   "source": [
    "#Get a sense of how many observations are missing\n",
    "all_vars = ['admit', 'gre', 'gpa', 'prestige']\n",
    "for i in range(0,len(all_vars)):\n",
    "    print(\"Num Missing\", all_vars[i])\n",
    "    print(df[df[all_vars[i]].isnull()].shape)\n",
    "\n",
    "del(all_vars)"
   ]
  },
  {
   "cell_type": "code",
   "execution_count": 219,
   "metadata": {
    "collapsed": false
   },
   "outputs": [
    {
     "name": "stdout",
     "output_type": "stream",
     "text": [
      "Mean gre for Admits\n",
      "618.571428571\n",
      "Mean gre for Non-Admits\n",
      "573.579335793\n",
      "Mean gpa for Admits\n",
      "3.48920634921\n",
      "Mean gpa for Non-Admits\n",
      "3.34715867159\n",
      "Mean prestige for Admits\n",
      "2.15079365079\n",
      "Mean prestige for Non-Admits\n",
      "2.64575645756\n"
     ]
    }
   ],
   "source": [
    "#Examine how predictors (gpa and gre and prestige) are different for admits and non-admits\n",
    "from scipy import stats\n",
    "\n",
    "pred_vars = ['gre', 'gpa', 'prestige'] \n",
    "cond=(df.admit==1)\n",
    "for i in range(0,len(variables)):\n",
    "    print(\"Mean\", pred_vars[i],\"for Admits\")\n",
    "    print(df[cond][pred_vars[i]].mean())\n",
    "    \n",
    "    print(\"Mean\", pred_vars[i],\"for Non-Admits\")\n",
    "    print(df[~cond][pred_vars[i]].mean())\n",
    "\n",
    "del(pred_vars)\n",
    "\n",
    "#THINGS I WAS TRYING BUT DIDN'T MANAGE TO MAKE WORK\n",
    "\n",
    "#find correlation between vars\n",
    "#np.corrcoef('gre', 'gpa')\n",
    "#stats.pearsonr('admit', 'gre')\n",
    "#Can we reject the null that the means between the two groups are the same?\n",
    "#ttest_ind(df[cond]['gpa'], df[~cond]['gpa'], equal_var= False)"
   ]
  },
  {
   "cell_type": "code",
   "execution_count": 222,
   "metadata": {
    "collapsed": false
   },
   "outputs": [
    {
     "name": "stdout",
     "output_type": "stream",
     "text": [
      "Mean gre for Prestige =  1\n",
      "611.803278689\n",
      "Mean gpa for Prestige =  1\n",
      "3.4531147541\n",
      "Mean gre for Prestige =  2\n",
      "596.621621622\n",
      "Mean gpa for Prestige =  2\n",
      "3.36736486486\n",
      "Mean gre for Prestige =  3\n",
      "574.876033058\n",
      "Mean gpa for Prestige =  3\n",
      "3.43289256198\n",
      "Mean gre for Prestige =  4\n",
      "570.149253731\n",
      "Mean gpa for Prestige =  4\n",
      "3.31835820896\n",
      "Crosstab of Admit and Rank of Undergraduate institution\n",
      "prestige  1.0  2.0  3.0  4.0\n",
      "admit                       \n",
      "0          28   95   93   55\n",
      "1          33   53   28   12\n"
     ]
    },
    {
     "data": {
      "text/plain": [
       "<matplotlib.text.Text at 0x1cd5011ee80>"
      ]
     },
     "execution_count": 222,
     "metadata": {},
     "output_type": "execute_result"
    },
    {
     "data": {
      "image/png": "[encoded data removed]",
      "text/plain": [
       "<matplotlib.figure.Figure at 0x1cd500e8e48>"
      ]
     },
     "metadata": {},
     "output_type": "display_data"
    }
   ],
   "source": [
    "#Examine how each var covaries with prestige\n",
    "\n",
    "covars= ['gre', 'gpa'] \n",
    "for i in range(1,5):\n",
    "    cond=(df.prestige==i)\n",
    "    for c in range(0, len(covars)):\n",
    "        print(\"Mean\", covars[c],\"for Prestige = \", i)\n",
    "        print(df[cond][covars[c]].mean())\n",
    "\n",
    "\n",
    "#Can do crosstab counts for the discrete variables\n",
    "print(\"Crosstab of Admit and Rank of Undergraduate institution\")\n",
    "print(pd.crosstab(df['admit'], df['prestige'], rownames=['admit']))\n",
    "\n",
    "del(covars)\n",
    "\n",
    "#How stronly are GPA and GRE correlated? \n",
    "#stats.pearsonr('gpa', 'gre') - doesnt work yet\n",
    "\n",
    "#Scatter plot of GPA and GRE\n",
    "print('Scatter Plot of GPA and GRE')\n",
    "plt.scatter(df.gpa, df.gre, s=10, alpha=0.3)\n",
    "plt.xlabel('GPA')\n",
    "plt.ylabel('GRE Score')"
   ]
  },
  {
   "cell_type": "markdown",
   "metadata": {},
   "source": [
    "### What we know so far\n",
    "* Outcome variable is binary variable 'admit' which is 1 if person is admitted and 0 otherwise.\n",
    "* Predictor variables are gre, prestige, and gpa which indicate the applicant's GRE score, their undergraduate institutions rank and their undergraduate GPA respectively\n",
    "* Two of the variables are discrete : admit and prestige and the rest (gpa and gre) can be considered continuous.\n",
    "* From the descriptive stats we see:\n",
    "  * A low number of missings\n",
    "  * Distributions of gpa and gre are somewhat left-skewed\n",
    "  * Mean of predictor variable is higher for admits\n",
    "  * In general, mean of GPA and GRE increases with increasing rank of the school but it's not monotonic nor linear"
   ]
  },
  {
   "cell_type": "markdown",
   "metadata": {},
   "source": [
    "#### 1. *Logistic Regression*"
   ]
  },
  {
   "cell_type": "markdown",
   "metadata": {},
   "source": [
    "## Research Question: \n",
    "1. Which factor is most predictive of college admission? Are there differential impacts of GPA or GRE by rank of your undergraduate institution?\n",
    "2. How well does your college rank and GPA predict your GRE score?"
   ]
  },
  {
   "cell_type": "code",
   "execution_count": 233,
   "metadata": {
    "collapsed": false
   },
   "outputs": [
    {
     "name": "stdout",
     "output_type": "stream",
     "text": [
      "   pres_1.0  pres_2.0  pres_3.0  pres_4.0\n",
      "0       0.0       0.0       1.0       0.0\n",
      "1       0.0       0.0       1.0       0.0\n",
      "2       1.0       0.0       0.0       0.0\n",
      "3       0.0       0.0       0.0       1.0\n",
      "4       0.0       0.0       0.0       1.0\n",
      "pres_2.0\n",
      "   admit    gre   gpa  pres_2.0  pres_3.0  pres_4.0\n",
      "0      0  380.0  3.61       0.0       1.0       0.0\n",
      "1      1  660.0  3.67       0.0       1.0       0.0\n",
      "2      1  800.0  4.00       0.0       0.0       0.0\n",
      "3      1  640.0  3.19       0.0       0.0       1.0\n",
      "4      0  520.0  2.93       0.0       0.0       1.0\n",
      "(397, 5)\n",
      "Optimization terminated successfully.\n",
      "         Current function value: 0.589121\n",
      "         Iterations 5\n",
      "                           Logit Regression Results                           \n",
      "==============================================================================\n",
      "Dep. Variable:                  admit   No. Observations:                  397\n",
      "Model:                          Logit   Df Residuals:                      392\n",
      "Method:                           MLE   Df Model:                            4\n",
      "Date:                Sat, 25 Jun 2016   Pseudo R-squ.:                 0.05722\n",
      "Time:                        17:19:03   Log-Likelihood:                -233.88\n",
      "converged:                       True   LL-Null:                       -248.08\n",
      "                                        LLR p-value:                 1.039e-05\n",
      "==============================================================================\n",
      "                 coef    std err          z      P>|z|      [95.0% Conf. Int.]\n",
      "------------------------------------------------------------------------------\n",
      "gre            0.0014      0.001      1.308      0.191        -0.001     0.003\n",
      "gpa           -0.1323      0.195     -0.680      0.497        -0.514     0.249\n",
      "pres_2.0      -0.9562      0.302     -3.171      0.002        -1.547    -0.365\n",
      "pres_3.0      -1.5375      0.332     -4.627      0.000        -2.189    -0.886\n",
      "pres_4.0      -1.8699      0.401     -4.658      0.000        -2.657    -1.083\n",
      "==============================================================================\n",
      "gre         1.001368\n",
      "gpa         0.876073\n",
      "pres_2.0    0.384342\n",
      "pres_3.0    0.214918\n",
      "pres_4.0    0.154135\n",
      "dtype: float64\n"
     ]
    },
    {
     "data": {
      "text/plain": [
       "'gpa_dummy=0\\nif df.gpa > 3:\\n    gpa_dummy=1'"
      ]
     },
     "execution_count": 233,
     "metadata": {},
     "output_type": "execute_result"
    }
   ],
   "source": [
    "#create dummy variables for rank\n",
    "dummies = pd.get_dummies(df['prestige'], prefix = 'pres')\n",
    "print(dummies.head())\n",
    "dummy=list(dummies)\n",
    "print(dummy[1])\n",
    "\n",
    "#create interaction terms. Couldnt figure this out\n",
    "\"\"\"inter=[]\n",
    "for i in range(1,5):\n",
    "    #inter[i]=df[dummy[i]]*df['gpa']\"\"\"\n",
    "\n",
    "\n",
    "#omit pres1 - will be left-out category\n",
    "cols = ['admit', 'gre', 'gpa']\n",
    "newdata = df[cols].join(dummies.ix[:, 'pres_2':])\n",
    "print(newdata.head())\n",
    "\n",
    "#drop any observation with null values\n",
    "df=df.dropna()\n",
    "print(df.shape)\n",
    "\n",
    "#run logistic regression with no interactions\n",
    "covar_cols = newdata.columns[1:]\n",
    "logit =sm.Logit(newdata['admit'], newdata[covar_cols])\n",
    "result = logit.fit()\n",
    "print(result.summary())\n",
    "\n",
    "#Convert to odds ratios\n",
    "print(np.exp(result.params))\n",
    "\n",
    "#del(newdata)\n",
    "#dichotomize gpa and gre to make OR results more interpretable-still not working\n",
    "\"\"\"gpa_dummy=0\n",
    "if df.gpa > 3:\n",
    "    gpa_dummy=1\"\"\"\n",
    "\n",
    "#run logistic with Gpa*prestige interaction terms\n",
    "\n",
    "#run logistic with gre*prestige interaction terms"
   ]
  },
  {
   "cell_type": "markdown",
   "metadata": {
    "collapsed": true
   },
   "source": [
    "### Interpretation\n",
    "* The higher the rank of your undergrad institution the greater the likelihood of being admitted. (highest = (pres_1==1) and lowers = (pres_4==1)). Results are striking; after controlling for GPA and GRE being in a rank 4 institution makes you almost 85% less likely to be admitted compared to those coming from rank 1 institutions\n",
    "* Odds ratios on GRE and GPA are harder to interpret because they are continuous- need to dichotomize"
   ]
  },
  {
   "cell_type": "markdown",
   "metadata": {},
   "source": [
    "### Questions and Further Analysis\n",
    "* When would one want to manually set an intercept?\n",
    "* How do you run a pearson correlation and how do you run a T test?\n",
    "* How do you create interaction terms and how do you dichotomize continuous variables?\n",
    "* Do you have to make sure you exclude the base category before running the model or will Python do that for you. (i.e one category automatically gets dropped in stata)"
   ]
  },
  {
   "cell_type": "code",
   "execution_count": null,
   "metadata": {
    "collapsed": true
   },
   "outputs": [],
   "source": []
  }
 ],
 "metadata": {
  "kernelspec": {
   "display_name": "Python 3",
   "language": "python",
   "name": "python3"
  },
  "language_info": {
   "codemirror_mode": {
    "name": "ipython",
    "version": 3
   },
   "file_extension": ".py",
   "mimetype": "text/x-python",
   "name": "python",
   "nbconvert_exporter": "python",
   "pygments_lexer": "ipython3",
   "version": "3.5.1"
  }
 },
 "nbformat": 4,
 "nbformat_minor": 0
}
